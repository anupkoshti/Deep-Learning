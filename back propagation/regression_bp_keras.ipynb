{
  "nbformat": 4,
  "nbformat_minor": 0,
  "metadata": {
    "colab": {
      "provenance": []
    },
    "kernelspec": {
      "name": "python3",
      "display_name": "Python 3"
    },
    "language_info": {
      "name": "python"
    }
  },
  "cells": [
    {
      "cell_type": "code",
      "execution_count": null,
      "metadata": {
        "id": "gvdXULs8vUEI"
      },
      "outputs": [],
      "source": [
        "import numpy as np\n",
        "import pandas as pd"
      ]
    },
    {
      "cell_type": "code",
      "source": [
        "df = pd.DataFrame([[8,8,4],[7,9,5],[6,10,6],[5,12,7]], columns=['cgpa', 'profile_score', 'lpa'])"
      ],
      "metadata": {
        "id": "3CWewZgNvfai"
      },
      "execution_count": null,
      "outputs": []
    },
    {
      "cell_type": "code",
      "source": [
        "import tensorflow\n",
        "from tensorflow import keras\n",
        "from keras import Sequential\n",
        "from keras.layers import Dense"
      ],
      "metadata": {
        "id": "TrJXdyfqvjWI"
      },
      "execution_count": null,
      "outputs": []
    },
    {
      "cell_type": "code",
      "source": [
        "model = Sequential()\n",
        "model.add(Dense(2, activation='linear', input_dim=2))\n",
        "model.add(Dense(1, activation='linear'))"
      ],
      "metadata": {
        "id": "mYMkDfauvz9C"
      },
      "execution_count": null,
      "outputs": []
    },
    {
      "cell_type": "code",
      "source": [
        "model.summary()"
      ],
      "metadata": {
        "colab": {
          "base_uri": "https://localhost:8080/"
        },
        "id": "rAJxHag5wKTy",
        "outputId": "edea9c55-41bd-4c12-b4e6-f170bec6ae3d"
      },
      "execution_count": null,
      "outputs": [
        {
          "output_type": "stream",
          "name": "stdout",
          "text": [
            "Model: \"sequential\"\n",
            "_________________________________________________________________\n",
            " Layer (type)                Output Shape              Param #   \n",
            "=================================================================\n",
            " dense (Dense)               (None, 2)                 6         \n",
            "                                                                 \n",
            " dense_1 (Dense)             (None, 1)                 3         \n",
            "                                                                 \n",
            "=================================================================\n",
            "Total params: 9 (36.00 Byte)\n",
            "Trainable params: 9 (36.00 Byte)\n",
            "Non-trainable params: 0 (0.00 Byte)\n",
            "_________________________________________________________________\n"
          ]
        }
      ]
    },
    {
      "cell_type": "code",
      "source": [
        "model.get_weights()"
      ],
      "metadata": {
        "colab": {
          "base_uri": "https://localhost:8080/"
        },
        "id": "eK0bNz7mwMLy",
        "outputId": "b9658f4c-525b-4583-a19a-0b5ab7d2f2f8"
      },
      "execution_count": null,
      "outputs": [
        {
          "output_type": "execute_result",
          "data": {
            "text/plain": [
              "[array([[-0.46889728, -0.98072326],\n",
              "        [ 0.8267039 ,  0.0595386 ]], dtype=float32),\n",
              " array([0., 0.], dtype=float32),\n",
              " array([[-0.29517055],\n",
              "        [-1.3045859 ]], dtype=float32),\n",
              " array([0.], dtype=float32)]"
            ]
          },
          "metadata": {},
          "execution_count": 6
        }
      ]
    },
    {
      "cell_type": "code",
      "source": [
        "new_weights = [np.array([[0.1, 0.1],\n",
        "        [ 0.1 ,  0.1 ]], dtype=np.float32),\n",
        " np.array([0.1, 0.1], dtype=np.float32),\n",
        " np.array([[0.1],\n",
        "        [0.1 ]], dtype=np.float32),\n",
        " np.array([0.1], dtype=np.float32)]"
      ],
      "metadata": {
        "id": "se5aZQc3wR7A"
      },
      "execution_count": null,
      "outputs": []
    },
    {
      "cell_type": "code",
      "source": [
        "model.set_weights(new_weights)"
      ],
      "metadata": {
        "id": "35cqKqeswtoX"
      },
      "execution_count": null,
      "outputs": []
    },
    {
      "cell_type": "code",
      "source": [
        "model.get_weights()"
      ],
      "metadata": {
        "colab": {
          "base_uri": "https://localhost:8080/"
        },
        "id": "Gt5rJSCvwyLM",
        "outputId": "7df5e855-5c63-4c72-a711-1e4a4adace1a"
      },
      "execution_count": null,
      "outputs": [
        {
          "output_type": "execute_result",
          "data": {
            "text/plain": [
              "[array([[0.1, 0.1],\n",
              "        [0.1, 0.1]], dtype=float32),\n",
              " array([0.1, 0.1], dtype=float32),\n",
              " array([[0.1],\n",
              "        [0.1]], dtype=float32),\n",
              " array([0.1], dtype=float32)]"
            ]
          },
          "metadata": {},
          "execution_count": 9
        }
      ]
    },
    {
      "cell_type": "code",
      "source": [
        "optimizer = keras.optimizers.Adam(learning_rate=0.001)"
      ],
      "metadata": {
        "id": "fSPROYC0w0Kt"
      },
      "execution_count": null,
      "outputs": []
    },
    {
      "cell_type": "code",
      "source": [
        "model.compile(loss='mean_squared_error', optimizer=optimizer)"
      ],
      "metadata": {
        "id": "k_2vOoVdw-bJ"
      },
      "execution_count": null,
      "outputs": []
    },
    {
      "cell_type": "code",
      "source": [
        "model.fit(df.iloc[:, 0:-1].values, df['lpa'].values, epochs=75, verbose=1, batch_size=1)"
      ],
      "metadata": {
        "colab": {
          "base_uri": "https://localhost:8080/"
        },
        "id": "hSvwt6cuxGBf",
        "outputId": "b1ca7dcb-a446-48f9-a560-56aeec4a393a"
      },
      "execution_count": null,
      "outputs": [
        {
          "output_type": "stream",
          "name": "stdout",
          "text": [
            "Epoch 1/75\n",
            "4/4 [==============================] - 1s 5ms/step - loss: 26.6594\n",
            "Epoch 2/75\n",
            "4/4 [==============================] - 0s 3ms/step - loss: 26.3315\n",
            "Epoch 3/75\n",
            "4/4 [==============================] - 0s 3ms/step - loss: 26.0033\n",
            "Epoch 4/75\n",
            "4/4 [==============================] - 0s 3ms/step - loss: 25.6797\n",
            "Epoch 5/75\n",
            "4/4 [==============================] - 0s 3ms/step - loss: 25.3219\n",
            "Epoch 6/75\n",
            "4/4 [==============================] - 0s 4ms/step - loss: 24.9919\n",
            "Epoch 7/75\n",
            "4/4 [==============================] - 0s 3ms/step - loss: 24.6141\n",
            "Epoch 8/75\n",
            "4/4 [==============================] - 0s 3ms/step - loss: 24.2244\n",
            "Epoch 9/75\n",
            "4/4 [==============================] - 0s 3ms/step - loss: 23.8388\n",
            "Epoch 10/75\n",
            "4/4 [==============================] - 0s 3ms/step - loss: 23.4551\n",
            "Epoch 11/75\n",
            "4/4 [==============================] - 0s 3ms/step - loss: 23.0114\n",
            "Epoch 12/75\n",
            "4/4 [==============================] - 0s 3ms/step - loss: 22.5986\n",
            "Epoch 13/75\n",
            "4/4 [==============================] - 0s 3ms/step - loss: 22.1814\n",
            "Epoch 14/75\n",
            "4/4 [==============================] - 0s 3ms/step - loss: 21.7670\n",
            "Epoch 15/75\n",
            "4/4 [==============================] - 0s 3ms/step - loss: 21.2984\n",
            "Epoch 16/75\n",
            "4/4 [==============================] - 0s 3ms/step - loss: 20.8383\n",
            "Epoch 17/75\n",
            "4/4 [==============================] - 0s 3ms/step - loss: 20.3996\n",
            "Epoch 18/75\n",
            "4/4 [==============================] - 0s 3ms/step - loss: 19.9007\n",
            "Epoch 19/75\n",
            "4/4 [==============================] - 0s 3ms/step - loss: 19.4260\n",
            "Epoch 20/75\n",
            "4/4 [==============================] - 0s 3ms/step - loss: 18.9320\n",
            "Epoch 21/75\n",
            "4/4 [==============================] - 0s 3ms/step - loss: 18.4461\n",
            "Epoch 22/75\n",
            "4/4 [==============================] - 0s 3ms/step - loss: 17.9922\n",
            "Epoch 23/75\n",
            "4/4 [==============================] - 0s 3ms/step - loss: 17.4774\n",
            "Epoch 24/75\n",
            "4/4 [==============================] - 0s 3ms/step - loss: 16.9358\n",
            "Epoch 25/75\n",
            "4/4 [==============================] - 0s 4ms/step - loss: 16.4389\n",
            "Epoch 26/75\n",
            "4/4 [==============================] - 0s 3ms/step - loss: 15.9604\n",
            "Epoch 27/75\n",
            "4/4 [==============================] - 0s 3ms/step - loss: 15.4315\n",
            "Epoch 28/75\n",
            "4/4 [==============================] - 0s 3ms/step - loss: 14.9441\n",
            "Epoch 29/75\n",
            "4/4 [==============================] - 0s 3ms/step - loss: 14.4205\n",
            "Epoch 30/75\n",
            "4/4 [==============================] - 0s 3ms/step - loss: 13.8851\n",
            "Epoch 31/75\n",
            "4/4 [==============================] - 0s 5ms/step - loss: 13.4523\n",
            "Epoch 32/75\n",
            "4/4 [==============================] - 0s 3ms/step - loss: 12.9506\n",
            "Epoch 33/75\n",
            "4/4 [==============================] - 0s 3ms/step - loss: 12.3918\n",
            "Epoch 34/75\n",
            "4/4 [==============================] - 0s 4ms/step - loss: 11.8958\n",
            "Epoch 35/75\n",
            "4/4 [==============================] - 0s 4ms/step - loss: 11.4462\n",
            "Epoch 36/75\n",
            "4/4 [==============================] - 0s 3ms/step - loss: 10.9902\n",
            "Epoch 37/75\n",
            "4/4 [==============================] - 0s 3ms/step - loss: 10.5219\n",
            "Epoch 38/75\n",
            "4/4 [==============================] - 0s 3ms/step - loss: 10.0530\n",
            "Epoch 39/75\n",
            "4/4 [==============================] - 0s 3ms/step - loss: 9.6052\n",
            "Epoch 40/75\n",
            "4/4 [==============================] - 0s 4ms/step - loss: 9.1191\n",
            "Epoch 41/75\n",
            "4/4 [==============================] - 0s 3ms/step - loss: 8.7428\n",
            "Epoch 42/75\n",
            "4/4 [==============================] - 0s 5ms/step - loss: 8.2496\n",
            "Epoch 43/75\n",
            "4/4 [==============================] - 0s 3ms/step - loss: 7.8684\n",
            "Epoch 44/75\n",
            "4/4 [==============================] - 0s 3ms/step - loss: 7.4821\n",
            "Epoch 45/75\n",
            "4/4 [==============================] - 0s 3ms/step - loss: 7.0963\n",
            "Epoch 46/75\n",
            "4/4 [==============================] - 0s 3ms/step - loss: 6.7390\n",
            "Epoch 47/75\n",
            "4/4 [==============================] - 0s 4ms/step - loss: 6.3810\n",
            "Epoch 48/75\n",
            "4/4 [==============================] - 0s 3ms/step - loss: 6.0006\n",
            "Epoch 49/75\n",
            "4/4 [==============================] - 0s 3ms/step - loss: 5.7136\n",
            "Epoch 50/75\n",
            "4/4 [==============================] - 0s 3ms/step - loss: 5.3956\n",
            "Epoch 51/75\n",
            "4/4 [==============================] - 0s 4ms/step - loss: 5.0411\n",
            "Epoch 52/75\n",
            "4/4 [==============================] - 0s 4ms/step - loss: 4.8057\n",
            "Epoch 53/75\n",
            "4/4 [==============================] - 0s 4ms/step - loss: 4.4755\n",
            "Epoch 54/75\n",
            "4/4 [==============================] - 0s 3ms/step - loss: 4.2447\n",
            "Epoch 55/75\n",
            "4/4 [==============================] - 0s 4ms/step - loss: 4.0044\n",
            "Epoch 56/75\n",
            "4/4 [==============================] - 0s 4ms/step - loss: 3.7412\n",
            "Epoch 57/75\n",
            "4/4 [==============================] - 0s 4ms/step - loss: 3.5464\n",
            "Epoch 58/75\n",
            "4/4 [==============================] - 0s 5ms/step - loss: 3.3207\n",
            "Epoch 59/75\n",
            "4/4 [==============================] - 0s 5ms/step - loss: 3.1423\n",
            "Epoch 60/75\n",
            "4/4 [==============================] - 0s 4ms/step - loss: 2.9649\n",
            "Epoch 61/75\n",
            "4/4 [==============================] - 0s 5ms/step - loss: 2.8004\n",
            "Epoch 62/75\n",
            "4/4 [==============================] - 0s 3ms/step - loss: 2.6357\n",
            "Epoch 63/75\n",
            "4/4 [==============================] - 0s 5ms/step - loss: 2.4919\n",
            "Epoch 64/75\n",
            "4/4 [==============================] - 0s 6ms/step - loss: 2.3569\n",
            "Epoch 65/75\n",
            "4/4 [==============================] - 0s 5ms/step - loss: 2.1989\n",
            "Epoch 66/75\n",
            "4/4 [==============================] - 0s 4ms/step - loss: 2.0922\n",
            "Epoch 67/75\n",
            "4/4 [==============================] - 0s 4ms/step - loss: 2.0113\n",
            "Epoch 68/75\n",
            "4/4 [==============================] - 0s 4ms/step - loss: 1.9115\n",
            "Epoch 69/75\n",
            "4/4 [==============================] - 0s 3ms/step - loss: 1.8118\n",
            "Epoch 70/75\n",
            "4/4 [==============================] - 0s 4ms/step - loss: 1.7341\n",
            "Epoch 71/75\n",
            "4/4 [==============================] - 0s 4ms/step - loss: 1.6489\n",
            "Epoch 72/75\n",
            "4/4 [==============================] - 0s 4ms/step - loss: 1.6121\n",
            "Epoch 73/75\n",
            "4/4 [==============================] - 0s 4ms/step - loss: 1.5457\n",
            "Epoch 74/75\n",
            "4/4 [==============================] - 0s 3ms/step - loss: 1.4684\n",
            "Epoch 75/75\n",
            "4/4 [==============================] - 0s 3ms/step - loss: 1.4284\n"
          ]
        },
        {
          "output_type": "execute_result",
          "data": {
            "text/plain": [
              "<keras.src.callbacks.History at 0x7e14541366e0>"
            ]
          },
          "metadata": {},
          "execution_count": 12
        }
      ]
    },
    {
      "cell_type": "code",
      "source": [
        "model.get_weights()"
      ],
      "metadata": {
        "colab": {
          "base_uri": "https://localhost:8080/"
        },
        "id": "Rd9Bl3YMxcls",
        "outputId": "0545621b-d369-43c3-be0c-55fa6cdfbbad"
      },
      "execution_count": null,
      "outputs": [
        {
          "output_type": "execute_result",
          "data": {
            "text/plain": [
              "[array([[0.36922202, 0.36922202],\n",
              "        [0.36180654, 0.36180654]], dtype=float32),\n",
              " array([0.3681848, 0.3681848], dtype=float32),\n",
              " array([[0.36710072],\n",
              "        [0.36710072]], dtype=float32),\n",
              " array([0.30228335], dtype=float32)]"
            ]
          },
          "metadata": {},
          "execution_count": 13
        }
      ]
    },
    {
      "cell_type": "code",
      "source": [],
      "metadata": {
        "id": "rrr432cSxiWO"
      },
      "execution_count": null,
      "outputs": []
    }
  ]
}