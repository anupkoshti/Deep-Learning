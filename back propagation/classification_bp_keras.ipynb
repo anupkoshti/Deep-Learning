{
  "nbformat": 4,
  "nbformat_minor": 0,
  "metadata": {
    "colab": {
      "provenance": []
    },
    "kernelspec": {
      "name": "python3",
      "display_name": "Python 3"
    },
    "language_info": {
      "name": "python"
    }
  },
  "cells": [
    {
      "cell_type": "code",
      "execution_count": 1,
      "metadata": {
        "id": "eZmIcSb4ykNr"
      },
      "outputs": [],
      "source": [
        "import numpy as np\n",
        "import pandas as pd\n"
      ]
    },
    {
      "cell_type": "code",
      "source": [
        "df = pd.DataFrame([[8,8,1],[7,9,1],[6,10,0],[5,5,0]], columns=['cgpa', 'profile_score', 'placed'])"
      ],
      "metadata": {
        "id": "Q-VZG9IMyuyE"
      },
      "execution_count": 2,
      "outputs": []
    },
    {
      "cell_type": "code",
      "source": [
        "df.head()"
      ],
      "metadata": {
        "colab": {
          "base_uri": "https://localhost:8080/",
          "height": 175
        },
        "id": "pfjDU8a2zBxU",
        "outputId": "b032ea33-a657-40ad-e823-f737c6fc109e"
      },
      "execution_count": 3,
      "outputs": [
        {
          "output_type": "execute_result",
          "data": {
            "text/plain": [
              "   cgpa  profile_score  placed\n",
              "0     8              8       1\n",
              "1     7              9       1\n",
              "2     6             10       0\n",
              "3     5              5       0"
            ],
            "text/html": [
              "\n",
              "  <div id=\"df-33a5227f-73df-4821-b15a-dda97aaa0608\" class=\"colab-df-container\">\n",
              "    <div>\n",
              "<style scoped>\n",
              "    .dataframe tbody tr th:only-of-type {\n",
              "        vertical-align: middle;\n",
              "    }\n",
              "\n",
              "    .dataframe tbody tr th {\n",
              "        vertical-align: top;\n",
              "    }\n",
              "\n",
              "    .dataframe thead th {\n",
              "        text-align: right;\n",
              "    }\n",
              "</style>\n",
              "<table border=\"1\" class=\"dataframe\">\n",
              "  <thead>\n",
              "    <tr style=\"text-align: right;\">\n",
              "      <th></th>\n",
              "      <th>cgpa</th>\n",
              "      <th>profile_score</th>\n",
              "      <th>placed</th>\n",
              "    </tr>\n",
              "  </thead>\n",
              "  <tbody>\n",
              "    <tr>\n",
              "      <th>0</th>\n",
              "      <td>8</td>\n",
              "      <td>8</td>\n",
              "      <td>1</td>\n",
              "    </tr>\n",
              "    <tr>\n",
              "      <th>1</th>\n",
              "      <td>7</td>\n",
              "      <td>9</td>\n",
              "      <td>1</td>\n",
              "    </tr>\n",
              "    <tr>\n",
              "      <th>2</th>\n",
              "      <td>6</td>\n",
              "      <td>10</td>\n",
              "      <td>0</td>\n",
              "    </tr>\n",
              "    <tr>\n",
              "      <th>3</th>\n",
              "      <td>5</td>\n",
              "      <td>5</td>\n",
              "      <td>0</td>\n",
              "    </tr>\n",
              "  </tbody>\n",
              "</table>\n",
              "</div>\n",
              "    <div class=\"colab-df-buttons\">\n",
              "\n",
              "  <div class=\"colab-df-container\">\n",
              "    <button class=\"colab-df-convert\" onclick=\"convertToInteractive('df-33a5227f-73df-4821-b15a-dda97aaa0608')\"\n",
              "            title=\"Convert this dataframe to an interactive table.\"\n",
              "            style=\"display:none;\">\n",
              "\n",
              "  <svg xmlns=\"http://www.w3.org/2000/svg\" height=\"24px\" viewBox=\"0 -960 960 960\">\n",
              "    <path d=\"M120-120v-720h720v720H120Zm60-500h600v-160H180v160Zm220 220h160v-160H400v160Zm0 220h160v-160H400v160ZM180-400h160v-160H180v160Zm440 0h160v-160H620v160ZM180-180h160v-160H180v160Zm440 0h160v-160H620v160Z\"/>\n",
              "  </svg>\n",
              "    </button>\n",
              "\n",
              "  <style>\n",
              "    .colab-df-container {\n",
              "      display:flex;\n",
              "      gap: 12px;\n",
              "    }\n",
              "\n",
              "    .colab-df-convert {\n",
              "      background-color: #E8F0FE;\n",
              "      border: none;\n",
              "      border-radius: 50%;\n",
              "      cursor: pointer;\n",
              "      display: none;\n",
              "      fill: #1967D2;\n",
              "      height: 32px;\n",
              "      padding: 0 0 0 0;\n",
              "      width: 32px;\n",
              "    }\n",
              "\n",
              "    .colab-df-convert:hover {\n",
              "      background-color: #E2EBFA;\n",
              "      box-shadow: 0px 1px 2px rgba(60, 64, 67, 0.3), 0px 1px 3px 1px rgba(60, 64, 67, 0.15);\n",
              "      fill: #174EA6;\n",
              "    }\n",
              "\n",
              "    .colab-df-buttons div {\n",
              "      margin-bottom: 4px;\n",
              "    }\n",
              "\n",
              "    [theme=dark] .colab-df-convert {\n",
              "      background-color: #3B4455;\n",
              "      fill: #D2E3FC;\n",
              "    }\n",
              "\n",
              "    [theme=dark] .colab-df-convert:hover {\n",
              "      background-color: #434B5C;\n",
              "      box-shadow: 0px 1px 3px 1px rgba(0, 0, 0, 0.15);\n",
              "      filter: drop-shadow(0px 1px 2px rgba(0, 0, 0, 0.3));\n",
              "      fill: #FFFFFF;\n",
              "    }\n",
              "  </style>\n",
              "\n",
              "    <script>\n",
              "      const buttonEl =\n",
              "        document.querySelector('#df-33a5227f-73df-4821-b15a-dda97aaa0608 button.colab-df-convert');\n",
              "      buttonEl.style.display =\n",
              "        google.colab.kernel.accessAllowed ? 'block' : 'none';\n",
              "\n",
              "      async function convertToInteractive(key) {\n",
              "        const element = document.querySelector('#df-33a5227f-73df-4821-b15a-dda97aaa0608');\n",
              "        const dataTable =\n",
              "          await google.colab.kernel.invokeFunction('convertToInteractive',\n",
              "                                                    [key], {});\n",
              "        if (!dataTable) return;\n",
              "\n",
              "        const docLinkHtml = 'Like what you see? Visit the ' +\n",
              "          '<a target=\"_blank\" href=https://colab.research.google.com/notebooks/data_table.ipynb>data table notebook</a>'\n",
              "          + ' to learn more about interactive tables.';\n",
              "        element.innerHTML = '';\n",
              "        dataTable['output_type'] = 'display_data';\n",
              "        await google.colab.output.renderOutput(dataTable, element);\n",
              "        const docLink = document.createElement('div');\n",
              "        docLink.innerHTML = docLinkHtml;\n",
              "        element.appendChild(docLink);\n",
              "      }\n",
              "    </script>\n",
              "  </div>\n",
              "\n",
              "\n",
              "<div id=\"df-b08f8054-1c4a-4cec-9793-62da48852ab0\">\n",
              "  <button class=\"colab-df-quickchart\" onclick=\"quickchart('df-b08f8054-1c4a-4cec-9793-62da48852ab0')\"\n",
              "            title=\"Suggest charts\"\n",
              "            style=\"display:none;\">\n",
              "\n",
              "<svg xmlns=\"http://www.w3.org/2000/svg\" height=\"24px\"viewBox=\"0 0 24 24\"\n",
              "     width=\"24px\">\n",
              "    <g>\n",
              "        <path d=\"M19 3H5c-1.1 0-2 .9-2 2v14c0 1.1.9 2 2 2h14c1.1 0 2-.9 2-2V5c0-1.1-.9-2-2-2zM9 17H7v-7h2v7zm4 0h-2V7h2v10zm4 0h-2v-4h2v4z\"/>\n",
              "    </g>\n",
              "</svg>\n",
              "  </button>\n",
              "\n",
              "<style>\n",
              "  .colab-df-quickchart {\n",
              "      --bg-color: #E8F0FE;\n",
              "      --fill-color: #1967D2;\n",
              "      --hover-bg-color: #E2EBFA;\n",
              "      --hover-fill-color: #174EA6;\n",
              "      --disabled-fill-color: #AAA;\n",
              "      --disabled-bg-color: #DDD;\n",
              "  }\n",
              "\n",
              "  [theme=dark] .colab-df-quickchart {\n",
              "      --bg-color: #3B4455;\n",
              "      --fill-color: #D2E3FC;\n",
              "      --hover-bg-color: #434B5C;\n",
              "      --hover-fill-color: #FFFFFF;\n",
              "      --disabled-bg-color: #3B4455;\n",
              "      --disabled-fill-color: #666;\n",
              "  }\n",
              "\n",
              "  .colab-df-quickchart {\n",
              "    background-color: var(--bg-color);\n",
              "    border: none;\n",
              "    border-radius: 50%;\n",
              "    cursor: pointer;\n",
              "    display: none;\n",
              "    fill: var(--fill-color);\n",
              "    height: 32px;\n",
              "    padding: 0;\n",
              "    width: 32px;\n",
              "  }\n",
              "\n",
              "  .colab-df-quickchart:hover {\n",
              "    background-color: var(--hover-bg-color);\n",
              "    box-shadow: 0 1px 2px rgba(60, 64, 67, 0.3), 0 1px 3px 1px rgba(60, 64, 67, 0.15);\n",
              "    fill: var(--button-hover-fill-color);\n",
              "  }\n",
              "\n",
              "  .colab-df-quickchart-complete:disabled,\n",
              "  .colab-df-quickchart-complete:disabled:hover {\n",
              "    background-color: var(--disabled-bg-color);\n",
              "    fill: var(--disabled-fill-color);\n",
              "    box-shadow: none;\n",
              "  }\n",
              "\n",
              "  .colab-df-spinner {\n",
              "    border: 2px solid var(--fill-color);\n",
              "    border-color: transparent;\n",
              "    border-bottom-color: var(--fill-color);\n",
              "    animation:\n",
              "      spin 1s steps(1) infinite;\n",
              "  }\n",
              "\n",
              "  @keyframes spin {\n",
              "    0% {\n",
              "      border-color: transparent;\n",
              "      border-bottom-color: var(--fill-color);\n",
              "      border-left-color: var(--fill-color);\n",
              "    }\n",
              "    20% {\n",
              "      border-color: transparent;\n",
              "      border-left-color: var(--fill-color);\n",
              "      border-top-color: var(--fill-color);\n",
              "    }\n",
              "    30% {\n",
              "      border-color: transparent;\n",
              "      border-left-color: var(--fill-color);\n",
              "      border-top-color: var(--fill-color);\n",
              "      border-right-color: var(--fill-color);\n",
              "    }\n",
              "    40% {\n",
              "      border-color: transparent;\n",
              "      border-right-color: var(--fill-color);\n",
              "      border-top-color: var(--fill-color);\n",
              "    }\n",
              "    60% {\n",
              "      border-color: transparent;\n",
              "      border-right-color: var(--fill-color);\n",
              "    }\n",
              "    80% {\n",
              "      border-color: transparent;\n",
              "      border-right-color: var(--fill-color);\n",
              "      border-bottom-color: var(--fill-color);\n",
              "    }\n",
              "    90% {\n",
              "      border-color: transparent;\n",
              "      border-bottom-color: var(--fill-color);\n",
              "    }\n",
              "  }\n",
              "</style>\n",
              "\n",
              "  <script>\n",
              "    async function quickchart(key) {\n",
              "      const quickchartButtonEl =\n",
              "        document.querySelector('#' + key + ' button');\n",
              "      quickchartButtonEl.disabled = true;  // To prevent multiple clicks.\n",
              "      quickchartButtonEl.classList.add('colab-df-spinner');\n",
              "      try {\n",
              "        const charts = await google.colab.kernel.invokeFunction(\n",
              "            'suggestCharts', [key], {});\n",
              "      } catch (error) {\n",
              "        console.error('Error during call to suggestCharts:', error);\n",
              "      }\n",
              "      quickchartButtonEl.classList.remove('colab-df-spinner');\n",
              "      quickchartButtonEl.classList.add('colab-df-quickchart-complete');\n",
              "    }\n",
              "    (() => {\n",
              "      let quickchartButtonEl =\n",
              "        document.querySelector('#df-b08f8054-1c4a-4cec-9793-62da48852ab0 button');\n",
              "      quickchartButtonEl.style.display =\n",
              "        google.colab.kernel.accessAllowed ? 'block' : 'none';\n",
              "    })();\n",
              "  </script>\n",
              "</div>\n",
              "\n",
              "    </div>\n",
              "  </div>\n"
            ],
            "application/vnd.google.colaboratory.intrinsic+json": {
              "type": "dataframe",
              "variable_name": "df",
              "summary": "{\n  \"name\": \"df\",\n  \"rows\": 4,\n  \"fields\": [\n    {\n      \"column\": \"cgpa\",\n      \"properties\": {\n        \"dtype\": \"number\",\n        \"std\": 1,\n        \"min\": 5,\n        \"max\": 8,\n        \"num_unique_values\": 4,\n        \"samples\": [\n          7,\n          5,\n          8\n        ],\n        \"semantic_type\": \"\",\n        \"description\": \"\"\n      }\n    },\n    {\n      \"column\": \"profile_score\",\n      \"properties\": {\n        \"dtype\": \"number\",\n        \"std\": 2,\n        \"min\": 5,\n        \"max\": 10,\n        \"num_unique_values\": 4,\n        \"samples\": [\n          9,\n          5,\n          8\n        ],\n        \"semantic_type\": \"\",\n        \"description\": \"\"\n      }\n    },\n    {\n      \"column\": \"placed\",\n      \"properties\": {\n        \"dtype\": \"number\",\n        \"std\": 0,\n        \"min\": 0,\n        \"max\": 1,\n        \"num_unique_values\": 2,\n        \"samples\": [\n          0,\n          1\n        ],\n        \"semantic_type\": \"\",\n        \"description\": \"\"\n      }\n    }\n  ]\n}"
            }
          },
          "metadata": {},
          "execution_count": 3
        }
      ]
    },
    {
      "cell_type": "code",
      "source": [
        "import tensorflow\n",
        "from tensorflow import keras\n",
        "from keras import Sequential\n",
        "from keras.layers import Dense"
      ],
      "metadata": {
        "id": "mN77TI1GzCKl"
      },
      "execution_count": 4,
      "outputs": []
    },
    {
      "cell_type": "code",
      "source": [
        "model = Sequential()\n",
        "model.add(Dense(2, activation='sigmoid', input_dim=2))\n",
        "model.add(Dense(1, activation='sigmoid'))"
      ],
      "metadata": {
        "id": "wacuQ6iUzFYC"
      },
      "execution_count": 5,
      "outputs": []
    },
    {
      "cell_type": "code",
      "source": [
        "model.summary()"
      ],
      "metadata": {
        "colab": {
          "base_uri": "https://localhost:8080/"
        },
        "id": "NFmYQsF7zI7j",
        "outputId": "307d12b2-ea9d-4c6f-b83d-d03f4fe9893b"
      },
      "execution_count": 6,
      "outputs": [
        {
          "output_type": "stream",
          "name": "stdout",
          "text": [
            "Model: \"sequential\"\n",
            "_________________________________________________________________\n",
            " Layer (type)                Output Shape              Param #   \n",
            "=================================================================\n",
            " dense (Dense)               (None, 2)                 6         \n",
            "                                                                 \n",
            " dense_1 (Dense)             (None, 1)                 3         \n",
            "                                                                 \n",
            "=================================================================\n",
            "Total params: 9 (36.00 Byte)\n",
            "Trainable params: 9 (36.00 Byte)\n",
            "Non-trainable params: 0 (0.00 Byte)\n",
            "_________________________________________________________________\n"
          ]
        }
      ]
    },
    {
      "cell_type": "code",
      "source": [
        "model.get_weights()"
      ],
      "metadata": {
        "colab": {
          "base_uri": "https://localhost:8080/"
        },
        "id": "o4rjjow7zLAV",
        "outputId": "7fb7af61-8936-4a79-e05c-56897a2cc4d5"
      },
      "execution_count": 7,
      "outputs": [
        {
          "output_type": "execute_result",
          "data": {
            "text/plain": [
              "[array([[ 0.23992372, -1.1111804 ],\n",
              "        [ 0.43990648, -0.60634816]], dtype=float32),\n",
              " array([0., 0.], dtype=float32),\n",
              " array([[-0.15315318],\n",
              "        [ 0.33022094]], dtype=float32),\n",
              " array([0.], dtype=float32)]"
            ]
          },
          "metadata": {},
          "execution_count": 7
        }
      ]
    },
    {
      "cell_type": "code",
      "source": [
        "new_weights = [np.array([[0.1, 0.1],\n",
        "        [ 0.1 ,  0.1 ]], dtype=np.float32),\n",
        " np.array([0.1, 0.1], dtype=np.float32),\n",
        " np.array([[0.1],\n",
        "        [0.1 ]], dtype=np.float32),\n",
        " np.array([0.1], dtype=np.float32)]"
      ],
      "metadata": {
        "id": "5VBHLrg3zNJT"
      },
      "execution_count": 8,
      "outputs": []
    },
    {
      "cell_type": "code",
      "source": [
        "model.set_weights(new_weights)"
      ],
      "metadata": {
        "id": "4MJn0QgizPgS"
      },
      "execution_count": 9,
      "outputs": []
    },
    {
      "cell_type": "code",
      "source": [
        "model.get_weights()"
      ],
      "metadata": {
        "colab": {
          "base_uri": "https://localhost:8080/"
        },
        "id": "raLuJDyYzRYy",
        "outputId": "071a686f-82fe-4ebd-a822-eec301614ab7"
      },
      "execution_count": 10,
      "outputs": [
        {
          "output_type": "execute_result",
          "data": {
            "text/plain": [
              "[array([[0.1, 0.1],\n",
              "        [0.1, 0.1]], dtype=float32),\n",
              " array([0.1, 0.1], dtype=float32),\n",
              " array([[0.1],\n",
              "        [0.1]], dtype=float32),\n",
              " array([0.1], dtype=float32)]"
            ]
          },
          "metadata": {},
          "execution_count": 10
        }
      ]
    },
    {
      "cell_type": "code",
      "source": [
        "optimizer = keras.optimizers.Adam(learning_rate=0.001)"
      ],
      "metadata": {
        "id": "KkalUnfHzS9j"
      },
      "execution_count": 11,
      "outputs": []
    },
    {
      "cell_type": "code",
      "source": [
        "model.compile(loss='binary_crossentropy', optimizer=optimizer)"
      ],
      "metadata": {
        "id": "weJnuMwzzU2p"
      },
      "execution_count": 16,
      "outputs": []
    },
    {
      "cell_type": "code",
      "source": [
        "model.fit(df.iloc[:, 0:-1].values, df['placed'].values, epochs=75, verbose=1, batch_size=1)"
      ],
      "metadata": {
        "colab": {
          "base_uri": "https://localhost:8080/"
        },
        "id": "cLkR7ZK2zZ65",
        "outputId": "462ed058-1960-47d6-d870-2e1313eca162"
      },
      "execution_count": 17,
      "outputs": [
        {
          "output_type": "stream",
          "name": "stdout",
          "text": [
            "Epoch 1/75\n",
            "4/4 [==============================] - 1s 4ms/step - loss: 0.7009\n",
            "Epoch 2/75\n",
            "4/4 [==============================] - 0s 3ms/step - loss: 0.7004\n",
            "Epoch 3/75\n",
            "4/4 [==============================] - 0s 3ms/step - loss: 0.6997\n",
            "Epoch 4/75\n",
            "4/4 [==============================] - 0s 3ms/step - loss: 0.6999\n",
            "Epoch 5/75\n",
            "4/4 [==============================] - 0s 3ms/step - loss: 0.6995\n",
            "Epoch 6/75\n",
            "4/4 [==============================] - 0s 4ms/step - loss: 0.6993\n",
            "Epoch 7/75\n",
            "4/4 [==============================] - 0s 4ms/step - loss: 0.6993\n",
            "Epoch 8/75\n",
            "4/4 [==============================] - 0s 4ms/step - loss: 0.6992\n",
            "Epoch 9/75\n",
            "4/4 [==============================] - 0s 4ms/step - loss: 0.6992\n",
            "Epoch 10/75\n",
            "4/4 [==============================] - 0s 4ms/step - loss: 0.6990\n",
            "Epoch 11/75\n",
            "4/4 [==============================] - 0s 3ms/step - loss: 0.6991\n",
            "Epoch 12/75\n",
            "4/4 [==============================] - 0s 3ms/step - loss: 0.6993\n",
            "Epoch 13/75\n",
            "4/4 [==============================] - 0s 3ms/step - loss: 0.6989\n",
            "Epoch 14/75\n",
            "4/4 [==============================] - 0s 4ms/step - loss: 0.6990\n",
            "Epoch 15/75\n",
            "4/4 [==============================] - 0s 3ms/step - loss: 0.6988\n",
            "Epoch 16/75\n",
            "4/4 [==============================] - 0s 3ms/step - loss: 0.6985\n",
            "Epoch 17/75\n",
            "4/4 [==============================] - 0s 4ms/step - loss: 0.6985\n",
            "Epoch 18/75\n",
            "4/4 [==============================] - 0s 3ms/step - loss: 0.6985\n",
            "Epoch 19/75\n",
            "4/4 [==============================] - 0s 3ms/step - loss: 0.6983\n",
            "Epoch 20/75\n",
            "4/4 [==============================] - 0s 3ms/step - loss: 0.6984\n",
            "Epoch 21/75\n",
            "4/4 [==============================] - 0s 3ms/step - loss: 0.6983\n",
            "Epoch 22/75\n",
            "4/4 [==============================] - 0s 3ms/step - loss: 0.6984\n",
            "Epoch 23/75\n",
            "4/4 [==============================] - 0s 4ms/step - loss: 0.6982\n",
            "Epoch 24/75\n",
            "4/4 [==============================] - 0s 3ms/step - loss: 0.6981\n",
            "Epoch 25/75\n",
            "4/4 [==============================] - 0s 3ms/step - loss: 0.6981\n",
            "Epoch 26/75\n",
            "4/4 [==============================] - 0s 5ms/step - loss: 0.6980\n",
            "Epoch 27/75\n",
            "4/4 [==============================] - 0s 4ms/step - loss: 0.6979\n",
            "Epoch 28/75\n",
            "4/4 [==============================] - 0s 4ms/step - loss: 0.6979\n",
            "Epoch 29/75\n",
            "4/4 [==============================] - 0s 3ms/step - loss: 0.6977\n",
            "Epoch 30/75\n",
            "4/4 [==============================] - 0s 3ms/step - loss: 0.6978\n",
            "Epoch 31/75\n",
            "4/4 [==============================] - 0s 4ms/step - loss: 0.6980\n",
            "Epoch 32/75\n",
            "4/4 [==============================] - 0s 4ms/step - loss: 0.6976\n",
            "Epoch 33/75\n",
            "4/4 [==============================] - 0s 4ms/step - loss: 0.6976\n",
            "Epoch 34/75\n",
            "4/4 [==============================] - 0s 4ms/step - loss: 0.6975\n",
            "Epoch 35/75\n",
            "4/4 [==============================] - 0s 4ms/step - loss: 0.6975\n",
            "Epoch 36/75\n",
            "4/4 [==============================] - 0s 4ms/step - loss: 0.6976\n",
            "Epoch 37/75\n",
            "4/4 [==============================] - 0s 3ms/step - loss: 0.6974\n",
            "Epoch 38/75\n",
            "4/4 [==============================] - 0s 3ms/step - loss: 0.6973\n",
            "Epoch 39/75\n",
            "4/4 [==============================] - 0s 3ms/step - loss: 0.6973\n",
            "Epoch 40/75\n",
            "4/4 [==============================] - 0s 3ms/step - loss: 0.6972\n",
            "Epoch 41/75\n",
            "4/4 [==============================] - 0s 3ms/step - loss: 0.6971\n",
            "Epoch 42/75\n",
            "4/4 [==============================] - 0s 4ms/step - loss: 0.6970\n",
            "Epoch 43/75\n",
            "4/4 [==============================] - 0s 3ms/step - loss: 0.6971\n",
            "Epoch 44/75\n",
            "4/4 [==============================] - 0s 3ms/step - loss: 0.6973\n",
            "Epoch 45/75\n",
            "4/4 [==============================] - 0s 3ms/step - loss: 0.6969\n",
            "Epoch 46/75\n",
            "4/4 [==============================] - 0s 4ms/step - loss: 0.6969\n",
            "Epoch 47/75\n",
            "4/4 [==============================] - 0s 3ms/step - loss: 0.6968\n",
            "Epoch 48/75\n",
            "4/4 [==============================] - 0s 3ms/step - loss: 0.6968\n",
            "Epoch 49/75\n",
            "4/4 [==============================] - 0s 3ms/step - loss: 0.6968\n",
            "Epoch 50/75\n",
            "4/4 [==============================] - 0s 4ms/step - loss: 0.6967\n",
            "Epoch 51/75\n",
            "4/4 [==============================] - 0s 4ms/step - loss: 0.6969\n",
            "Epoch 52/75\n",
            "4/4 [==============================] - 0s 3ms/step - loss: 0.6966\n",
            "Epoch 53/75\n",
            "4/4 [==============================] - 0s 3ms/step - loss: 0.6966\n",
            "Epoch 54/75\n",
            "4/4 [==============================] - 0s 3ms/step - loss: 0.6966\n",
            "Epoch 55/75\n",
            "4/4 [==============================] - 0s 3ms/step - loss: 0.6965\n",
            "Epoch 56/75\n",
            "4/4 [==============================] - 0s 3ms/step - loss: 0.6965\n",
            "Epoch 57/75\n",
            "4/4 [==============================] - 0s 3ms/step - loss: 0.6965\n",
            "Epoch 58/75\n",
            "4/4 [==============================] - 0s 3ms/step - loss: 0.6964\n",
            "Epoch 59/75\n",
            "4/4 [==============================] - 0s 3ms/step - loss: 0.6964\n",
            "Epoch 60/75\n",
            "4/4 [==============================] - 0s 3ms/step - loss: 0.6963\n",
            "Epoch 61/75\n",
            "4/4 [==============================] - 0s 3ms/step - loss: 0.6963\n",
            "Epoch 62/75\n",
            "4/4 [==============================] - 0s 3ms/step - loss: 0.6963\n",
            "Epoch 63/75\n",
            "4/4 [==============================] - 0s 3ms/step - loss: 0.6965\n",
            "Epoch 64/75\n",
            "4/4 [==============================] - 0s 3ms/step - loss: 0.6961\n",
            "Epoch 65/75\n",
            "4/4 [==============================] - 0s 4ms/step - loss: 0.6961\n",
            "Epoch 66/75\n",
            "4/4 [==============================] - 0s 3ms/step - loss: 0.6961\n",
            "Epoch 67/75\n",
            "4/4 [==============================] - 0s 3ms/step - loss: 0.6960\n",
            "Epoch 68/75\n",
            "4/4 [==============================] - 0s 4ms/step - loss: 0.6960\n",
            "Epoch 69/75\n",
            "4/4 [==============================] - 0s 3ms/step - loss: 0.6959\n",
            "Epoch 70/75\n",
            "4/4 [==============================] - 0s 3ms/step - loss: 0.6960\n",
            "Epoch 71/75\n",
            "4/4 [==============================] - 0s 4ms/step - loss: 0.6960\n",
            "Epoch 72/75\n",
            "4/4 [==============================] - 0s 4ms/step - loss: 0.6959\n",
            "Epoch 73/75\n",
            "4/4 [==============================] - 0s 3ms/step - loss: 0.6961\n",
            "Epoch 74/75\n",
            "4/4 [==============================] - 0s 3ms/step - loss: 0.6958\n",
            "Epoch 75/75\n",
            "4/4 [==============================] - 0s 3ms/step - loss: 0.6957\n"
          ]
        },
        {
          "output_type": "execute_result",
          "data": {
            "text/plain": [
              "<keras.src.callbacks.History at 0x7be7ca5649d0>"
            ]
          },
          "metadata": {},
          "execution_count": 17
        }
      ]
    },
    {
      "cell_type": "code",
      "source": [
        "model.get_weights()"
      ],
      "metadata": {
        "colab": {
          "base_uri": "https://localhost:8080/"
        },
        "id": "wD1pRqirzbrS",
        "outputId": "238b91c9-9937-4a94-95e4-02f81570de68"
      },
      "execution_count": 18,
      "outputs": [
        {
          "output_type": "execute_result",
          "data": {
            "text/plain": [
              "[array([[0.09153617, 0.09153617],\n",
              "        [0.06997074, 0.06997074]], dtype=float32),\n",
              " array([0.04664211, 0.04664211], dtype=float32),\n",
              " array([[0.07686043],\n",
              "        [0.07686043]], dtype=float32),\n",
              " array([0.06795564], dtype=float32)]"
            ]
          },
          "metadata": {},
          "execution_count": 18
        }
      ]
    },
    {
      "cell_type": "code",
      "source": [],
      "metadata": {
        "id": "dUwEVUoezsN9"
      },
      "execution_count": null,
      "outputs": []
    }
  ]
}